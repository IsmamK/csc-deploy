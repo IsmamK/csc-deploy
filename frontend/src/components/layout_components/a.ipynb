{
 "cells": [
  {
   "cell_type": "code",
   "execution_count": null,
   "metadata": {
    "vscode": {
     "languageId": "plaintext"
    }
   },
   "outputs": [],
   "source": [
    "\n",
    "from api.firebase_config import initialize_firebase\n",
    "initialize_firebase()\n",
    "\n",
    "import os\n",
    "\n",
    "BASE_DIR = Path(__file__).resolve().parent.parent\n",
    "STATIC_URL = '/erp_backend/static/'\n",
    "MEDIA_URL = '/erp_backend/media/'\n",
    "STATICFILES_DIRS=[BASE_DIR / \"assets\",]\n",
    "STATIC_ROOT = '/home/rasdctfv/public_html/erp_backend/static'\n",
    "MEDIA_ROOT = '/home/rasdctfv/public_html/erp_backend/media'\n",
    "\n"
   ]
  }
 ],
 "metadata": {
  "language_info": {
   "name": "python"
  }
 },
 "nbformat": 4,
 "nbformat_minor": 2
}
